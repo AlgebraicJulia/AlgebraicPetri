{
 "cells": [
  {
   "outputs": [
    {
     "output_type": "execute_result",
     "data": {
      "text/plain": "DiffEqBase.ODEProblem"
     },
     "metadata": {},
     "execution_count": 1
    }
   ],
   "cell_type": "code",
   "source": [
    "using AlgebraicPetri\n",
    "using Petri: Model, Graph\n",
    "using OrdinaryDiffEq\n",
    "using Plots\n",
    "using Catlab.Meta\n",
    "using JSON\n",
    "\n",
    "import OrdinaryDiffEq: ODEProblem\n",
    "ODEProblem(p::LabelledReactionNet, t) = ODEProblem(vectorfield(p), concentrations(p), t, rates(p))"
   ],
   "metadata": {},
   "execution_count": 1
  },
  {
   "cell_type": "markdown",
   "source": [
    "help capture JSON of defined functions"
   ],
   "metadata": {}
  },
  {
   "outputs": [
    {
     "name": "stdout",
     "output_type": "stream",
     "text": [
      "HELLO\n",
      "{\n",
      "  \"T\": [\n",
      "    {\n",
      "      \"rate\": \":(t->begin\\n          policy_days = [20, 60, 120] .+ 17\\n          contact_rate = 0.05\\n          pol = findfirst((x->begin\\n                          t <= x\\n                      end), policy_days)\\n          growth_rate = if pol == 1\\n                  0.0\\n              else\\n                  2 ^ (1 / ((pol - 1) * 5)) - 1\\n              end\\n          return ((growth_rate + γ) / 990) * (1 - contact_rate)\\n      end)\",\n",
      "      \"tname\": \"inf\"\n",
      "    },\n",
      "    {\n",
      "      \"rate\": \":(1 / 14)\",\n",
      "      \"tname\": \"rec\"\n",
      "    }\n",
      "  ],\n",
      "  \"S\": [\n",
      "    {\n",
      "      \"concentration\": 990,\n",
      "      \"sname\": \"S\"\n",
      "    },\n",
      "    {\n",
      "      \"concentration\": 10,\n",
      "      \"sname\": \"I\"\n",
      "    },\n",
      "    {\n",
      "      \"concentration\": 0,\n",
      "      \"sname\": \"R\"\n",
      "    }\n",
      "  ],\n",
      "  \"I\": [\n",
      "    {\n",
      "      \"it\": 1,\n",
      "      \"is\": 1\n",
      "    },\n",
      "    {\n",
      "      \"it\": 1,\n",
      "      \"is\": 2\n",
      "    },\n",
      "    {\n",
      "      \"it\": 2,\n",
      "      \"is\": 2\n",
      "    }\n",
      "  ],\n",
      "  \"O\": [\n",
      "    {\n",
      "      \"ot\": 1,\n",
      "      \"os\": 2\n",
      "    },\n",
      "    {\n",
      "      \"ot\": 1,\n",
      "      \"os\": 2\n",
      "    },\n",
      "    {\n",
      "      \"ot\": 2,\n",
      "      \"os\": 3\n",
      "    }\n",
      "  ]\n",
      "}\n"
     ]
    }
   ],
   "cell_type": "code",
   "source": [
    "macro capture(funcname, exname, ex)\n",
    "    quote\n",
    "        $(esc(exname)) = $(repr(strip_lines(ex, recurse=true)))\n",
    "        $(esc(funcname)) = $ex\n",
    "    end\n",
    "end\n",
    "\n",
    "@capture γ γ_text 1/14\n",
    "@capture β β_text t->begin\n",
    "    policy_days = [20,60,120] .+ 17\n",
    "    contact_rate = 0.05\n",
    "    pol = findfirst(x->t<=x, policy_days) # array of days when policy changes\n",
    "    growth_rate = pol == 1 ? 0.0 : (2^(1/((pol-1)*5)) - 1) # growth rate depending on policy\n",
    "    return (growth_rate + γ) / 990 * (1-contact_rate) # calculate rate of infection\n",
    "end\n",
    "\n",
    "sir_cset= LabelledReactionNet{Function, Float64}((:S=>990, :I=>10, :R=>0), (:inf, β)=>((:S, :I)=>(:I,:I)), (:rec, t->γ)=>(:I=>:R))\n",
    "\n",
    "Graph(Model(sir_cset))\n",
    "\n",
    "prob = ODEProblem(sir_cset, (17.0, 120.0))\n",
    "sol = OrdinaryDiffEq.solve(prob,Tsit5())\n",
    "plot(sol)\n",
    "\n",
    "# Getting Sharable JSON\n",
    "sir_cset_string = LabelledReactionNet{String, Int}((:S=>990, :I=>10, :R=>0), (:inf, β_text)=>((:S, :I)=>(:I,:I)), (:rec, γ_text)=>(:I=>:R))\n",
    "JSON.print(sir_cset_string.tables, 2)"
   ],
   "metadata": {},
   "execution_count": 2
  }
 ],
 "nbformat_minor": 3,
 "metadata": {
  "language_info": {
   "file_extension": ".jl",
   "mimetype": "application/julia",
   "name": "julia",
   "version": "1.4.2"
  },
  "kernelspec": {
   "name": "julia-1.4",
   "display_name": "Julia 1.4.2",
   "language": "julia"
  }
 },
 "nbformat": 4
}
