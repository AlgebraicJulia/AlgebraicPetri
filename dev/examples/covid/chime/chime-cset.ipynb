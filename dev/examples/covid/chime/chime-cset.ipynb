{
 "cells": [
  {
   "outputs": [
    {
     "output_type": "execute_result",
     "data": {
      "text/plain": "SciMLBase.ODEProblem"
     },
     "metadata": {},
     "execution_count": 1
    }
   ],
   "cell_type": "code",
   "source": [
    "using AlgebraicPetri\n",
    "using OrdinaryDiffEq\n",
    "using Plots\n",
    "using Catlab.Meta\n",
    "using Catlab.CategoricalAlgebra\n",
    "using JSON\n",
    "\n",
    "import OrdinaryDiffEq: ODEProblem\n",
    "ODEProblem(p::LabelledReactionNet, t) = ODEProblem(vectorfield(p), concentrations(p), t, rates(p))"
   ],
   "metadata": {},
   "execution_count": 1
  },
  {
   "cell_type": "markdown",
   "source": [
    "help capture JSON of defined functions"
   ],
   "metadata": {}
  },
  {
   "outputs": [
    {
     "name": "stdout",
     "output_type": "stream",
     "text": [
      "{\n",
      "  \"T\": {\n",
      "    \"rate\": [\n",
      "      \":(t->begin\\n          policy_days = [20, 60, 120] .+ 17\\n          contact_rate = 0.05\\n          pol = findfirst((x->begin\\n                          t <= x\\n                      end), policy_days)\\n          growth_rate = if pol == 1\\n                  0.0\\n              else\\n                  2 ^ (1 / ((pol - 1) * 5)) - 1\\n              end\\n          return ((growth_rate + γ) / 990) * (1 - contact_rate)\\n      end)\",\n",
      "      \":(1 / 14)\"\n",
      "    ],\n",
      "    \"tname\": [\n",
      "      \"inf\",\n",
      "      \"rec\"\n",
      "    ]\n",
      "  },\n",
      "  \"S\": {\n",
      "    \"concentration\": [\n",
      "      990,\n",
      "      10,\n",
      "      0\n",
      "    ],\n",
      "    \"sname\": [\n",
      "      \"S\",\n",
      "      \"I\",\n",
      "      \"R\"\n",
      "    ]\n",
      "  },\n",
      "  \"I\": {\n",
      "    \"it\": [\n",
      "      1,\n",
      "      1,\n",
      "      2\n",
      "    ],\n",
      "    \"is\": [\n",
      "      1,\n",
      "      2,\n",
      "      2\n",
      "    ]\n",
      "  },\n",
      "  \"O\": {\n",
      "    \"ot\": [\n",
      "      1,\n",
      "      1,\n",
      "      2\n",
      "    ],\n",
      "    \"os\": [\n",
      "      2,\n",
      "      2,\n",
      "      3\n",
      "    ]\n",
      "  }\n",
      "}\n"
     ]
    }
   ],
   "cell_type": "code",
   "source": [
    "macro capture(funcname, exname, ex)\n",
    "    quote\n",
    "        $(esc(exname)) = $(repr(strip_lines(ex, recurse=true)))\n",
    "        $(esc(funcname)) = $ex\n",
    "    end\n",
    "end\n",
    "\n",
    "@capture γ γ_text 1/14\n",
    "@capture β β_text t->begin\n",
    "    policy_days = [20,60,120] .+ 17\n",
    "    contact_rate = 0.05\n",
    "    pol = findfirst(x->t<=x, policy_days) # array of days when policy changes\n",
    "    growth_rate = pol == 1 ? 0.0 : (2^(1/((pol-1)*5)) - 1) # growth rate depending on policy\n",
    "    return (growth_rate + γ) / 990 * (1-contact_rate) # calculate rate of infection\n",
    "end\n",
    "\n",
    "sir_cset= LabelledReactionNet{Function, Float64}((:S=>990, :I=>10, :R=>0), (:inf, β)=>((:S, :I)=>(:I,:I)), (:rec, t->γ)=>(:I=>:R))\n",
    "\n",
    "Graph(sir_cset)\n",
    "\n",
    "prob = ODEProblem(sir_cset, (17.0, 120.0))\n",
    "sol = OrdinaryDiffEq.solve(prob,Tsit5())\n",
    "plot(sol)\n",
    "\n",
    "# Getting Sharable JSON\n",
    "sir_cset_string = LabelledReactionNet{String, Int}((:S=>990, :I=>10, :R=>0), (:inf, β_text)=>((:S, :I)=>(:I,:I)), (:rec, γ_text)=>(:I=>:R))\n",
    "JSON.print(tables(sir_cset_string), 2)"
   ],
   "metadata": {},
   "execution_count": 2
  }
 ],
 "nbformat_minor": 3,
 "metadata": {
  "language_info": {
   "file_extension": ".jl",
   "mimetype": "application/julia",
   "name": "julia",
   "version": "1.8.2"
  },
  "kernelspec": {
   "name": "julia-1.8",
   "display_name": "Julia 1.8.2",
   "language": "julia"
  }
 },
 "nbformat": 4
}
